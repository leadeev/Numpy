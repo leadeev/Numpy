{
  "nbformat": 4,
  "nbformat_minor": 0,
  "metadata": {
    "colab": {
      "provenance": [],
      "include_colab_link": true
    },
    "kernelspec": {
      "name": "python3",
      "display_name": "Python 3"
    },
    "language_info": {
      "name": "python"
    }
  },
  "cells": [
    {
      "cell_type": "markdown",
      "metadata": {
        "id": "view-in-github",
        "colab_type": "text"
      },
      "source": [
        "<a href=\"https://colab.research.google.com/github/leadeev/Numpy/blob/main/03_Numpy_Slicing.ipynb\" target=\"_parent\"><img src=\"https://colab.research.google.com/assets/colab-badge.svg\" alt=\"Open In Colab\"/></a>"
      ]
    },
    {
      "cell_type": "code",
      "execution_count": null,
      "metadata": {
        "id": "oAgzIe8SHxxF"
      },
      "outputs": [],
      "source": [
        "import numpy as np\n"
      ]
    },
    {
      "cell_type": "markdown",
      "source": [
        "Execute the cell below before starting the 1st mission."
      ],
      "metadata": {
        "id": "B2WKsy0JKfwk"
      }
    },
    {
      "cell_type": "code",
      "source": [
        "array_1 = np.array([10, 40, 45,  5, 66, 91, 43, 75, 40, 28, 55, 45, 31, 71, 67, 54, 54,\n",
        "       35, 64, 27, 12, 93, 17, 91, 50, 57, 74, 61, 86, 20, 36, 35])\n",
        "\n",
        "array_1"
      ],
      "metadata": {
        "colab": {
          "base_uri": "https://localhost:8080/"
        },
        "id": "v301-QT9KHHn",
        "outputId": "a0d23380-84aa-40a8-91dc-11f6dba3de3b"
      },
      "execution_count": null,
      "outputs": [
        {
          "output_type": "execute_result",
          "data": {
            "text/plain": [
              "array([10, 40, 45,  5, 66, 91, 43, 75, 40, 28, 55, 45, 31, 71, 67, 54, 54,\n",
              "       35, 64, 27, 12, 93, 17, 91, 50, 57, 74, 61, 86, 20, 36, 35])"
            ]
          },
          "metadata": {},
          "execution_count": 2
        }
      ]
    },
    {
      "cell_type": "markdown",
      "source": [
        "# Mission 1"
      ],
      "metadata": {
        "id": "ZAXuwsahKkiR"
      }
    },
    {
      "cell_type": "markdown",
      "source": [
        "Using Numpy, how many axes `array_1` have ?\n",
        "\n",
        "\n"
      ],
      "metadata": {
        "id": "yrkLENtQKpNb"
      }
    },
    {
      "cell_type": "code",
      "source": [
        "array_1.shape"
      ],
      "metadata": {
        "colab": {
          "base_uri": "https://localhost:8080/"
        },
        "id": "6wJrzm8mKUbA",
        "outputId": "56828afd-2b76-4a4b-9482-28508595b21a"
      },
      "execution_count": null,
      "outputs": [
        {
          "output_type": "execute_result",
          "data": {
            "text/plain": [
              "(32,)"
            ]
          },
          "metadata": {},
          "execution_count": 3
        }
      ]
    },
    {
      "cell_type": "markdown",
      "source": [
        "Réponse: Il y a un axe, qui contient 32 éléments."
      ],
      "metadata": {
        "id": "VL8GuAXyLAs1"
      }
    },
    {
      "cell_type": "markdown",
      "source": [
        "How many dimensions `array_1` have?"
      ],
      "metadata": {
        "id": "UalGJQxz33yA"
      }
    },
    {
      "cell_type": "code",
      "source": [
        "array_1.ndim"
      ],
      "metadata": {
        "colab": {
          "base_uri": "https://localhost:8080/"
        },
        "id": "ajG9tS7PK_8v",
        "outputId": "b95134f3-c7ae-44be-e6ad-f04207b04666"
      },
      "execution_count": null,
      "outputs": [
        {
          "output_type": "execute_result",
          "data": {
            "text/plain": [
              "1"
            ]
          },
          "metadata": {},
          "execution_count": 4
        }
      ]
    },
    {
      "cell_type": "markdown",
      "source": [
        "Accesses the first element of `array_1`"
      ],
      "metadata": {
        "id": "FigiIh9o4PZ2"
      }
    },
    {
      "cell_type": "code",
      "source": [
        "array_1[0]"
      ],
      "metadata": {
        "colab": {
          "base_uri": "https://localhost:8080/"
        },
        "id": "WzpTjgg94JRh",
        "outputId": "01abf2db-87f5-4d00-9aab-e87000f83346"
      },
      "execution_count": null,
      "outputs": [
        {
          "output_type": "execute_result",
          "data": {
            "text/plain": [
              "10"
            ]
          },
          "metadata": {},
          "execution_count": 5
        }
      ]
    },
    {
      "cell_type": "markdown",
      "source": [
        "# Mission 2"
      ],
      "metadata": {
        "id": "XgHAtDey4ecq"
      }
    },
    {
      "cell_type": "markdown",
      "source": [
        "Modify, using a `numpy` method, the `array_1` object to be an object that has two axes, including 1 row and 32 columns.  \n",
        "Save it under the variable `array_2`."
      ],
      "metadata": {
        "id": "jiooiSHv4f-u"
      }
    },
    {
      "cell_type": "code",
      "source": [
        "array_2 = array_1.reshape(1,32)\n",
        "\n",
        "array_2"
      ],
      "metadata": {
        "colab": {
          "base_uri": "https://localhost:8080/"
        },
        "id": "QK7ebguE4V70",
        "outputId": "8ecfecbc-090b-4809-dc71-58fd33ad8ea1"
      },
      "execution_count": null,
      "outputs": [
        {
          "output_type": "execute_result",
          "data": {
            "text/plain": [
              "array([[10, 40, 45,  5, 66, 91, 43, 75, 40, 28, 55, 45, 31, 71, 67, 54,\n",
              "        54, 35, 64, 27, 12, 93, 17, 91, 50, 57, 74, 61, 86, 20, 36, 35]])"
            ]
          },
          "metadata": {},
          "execution_count": 6
        }
      ]
    },
    {
      "cell_type": "markdown",
      "source": [
        "Now, modify `array_1` into an object that has 32 rows and only 1 column.  \n",
        "Save it under the variable `array_3`."
      ],
      "metadata": {
        "id": "pPrJF4lh4-nU"
      }
    },
    {
      "cell_type": "code",
      "source": [
        "array_3 = array_1.reshape(32,1)\n",
        "array_3"
      ],
      "metadata": {
        "colab": {
          "base_uri": "https://localhost:8080/"
        },
        "id": "IX9OQuAZ47yu",
        "outputId": "c8de447b-1856-4134-bcce-5adde6a580a3"
      },
      "execution_count": null,
      "outputs": [
        {
          "output_type": "execute_result",
          "data": {
            "text/plain": [
              "array([[10],\n",
              "       [40],\n",
              "       [45],\n",
              "       [ 5],\n",
              "       [66],\n",
              "       [91],\n",
              "       [43],\n",
              "       [75],\n",
              "       [40],\n",
              "       [28],\n",
              "       [55],\n",
              "       [45],\n",
              "       [31],\n",
              "       [71],\n",
              "       [67],\n",
              "       [54],\n",
              "       [54],\n",
              "       [35],\n",
              "       [64],\n",
              "       [27],\n",
              "       [12],\n",
              "       [93],\n",
              "       [17],\n",
              "       [91],\n",
              "       [50],\n",
              "       [57],\n",
              "       [74],\n",
              "       [61],\n",
              "       [86],\n",
              "       [20],\n",
              "       [36],\n",
              "       [35]])"
            ]
          },
          "metadata": {},
          "execution_count": 7
        }
      ]
    },
    {
      "cell_type": "markdown",
      "source": [
        "Accesses the first value of `array_2`, then of `array_3`.  \n",
        "What do you notice?  \n",
        "Why ?"
      ],
      "metadata": {
        "id": "m1MNZ-G255JC"
      }
    },
    {
      "cell_type": "markdown",
      "source": [
        "The first value of array_2 is a list that contains 32 elements.\n",
        "The first value of array_3 is a list that contains 1 element.\n",
        "This is because a row requires a new list to be created each time, while for a column the items follow one another next to each other in the same list.\n",
        "\n"
      ],
      "metadata": {
        "id": "5WI4Kyz46HkE"
      }
    },
    {
      "cell_type": "code",
      "source": [
        "array_2[0]"
      ],
      "metadata": {
        "colab": {
          "base_uri": "https://localhost:8080/"
        },
        "id": "Q3KDjWCO5LiJ",
        "outputId": "3b82ca07-09c3-48d5-e1c9-5858e814c300"
      },
      "execution_count": null,
      "outputs": [
        {
          "output_type": "execute_result",
          "data": {
            "text/plain": [
              "array([10, 40, 45,  5, 66, 91, 43, 75, 40, 28, 55, 45, 31, 71, 67, 54, 54,\n",
              "       35, 64, 27, 12, 93, 17, 91, 50, 57, 74, 61, 86, 20, 36, 35])"
            ]
          },
          "metadata": {},
          "execution_count": 8
        }
      ]
    },
    {
      "cell_type": "code",
      "source": [
        "array_3[0]"
      ],
      "metadata": {
        "colab": {
          "base_uri": "https://localhost:8080/"
        },
        "id": "IvtCxA_R6DhK",
        "outputId": "4ca8e20a-8f09-444b-d91e-b881f02ffa56"
      },
      "execution_count": null,
      "outputs": [
        {
          "output_type": "execute_result",
          "data": {
            "text/plain": [
              "array([10])"
            ]
          },
          "metadata": {},
          "execution_count": 9
        }
      ]
    },
    {
      "cell_type": "markdown",
      "source": [
        "# Mission 3"
      ],
      "metadata": {
        "id": "zjxwDouC66FZ"
      }
    },
    {
      "cell_type": "markdown",
      "source": [
        "Accesses the value that is at index 3 of array `array_2`.  \n",
        "Do it with Numpy way, then with Python way."
      ],
      "metadata": {
        "id": "BE6DnozV67pW"
      }
    },
    {
      "cell_type": "code",
      "source": [
        "# Numpy way\n",
        "\n",
        "array_2[0,3]\n"
      ],
      "metadata": {
        "colab": {
          "base_uri": "https://localhost:8080/"
        },
        "id": "fpixS3426FFm",
        "outputId": "17d9ff15-998c-4eb5-dd46-e6b12159f01b"
      },
      "execution_count": null,
      "outputs": [
        {
          "output_type": "execute_result",
          "data": {
            "text/plain": [
              "5"
            ]
          },
          "metadata": {},
          "execution_count": 10
        }
      ]
    },
    {
      "cell_type": "code",
      "source": [
        "# Python way\n",
        "\n",
        "list(array_2)[0][3]"
      ],
      "metadata": {
        "colab": {
          "base_uri": "https://localhost:8080/"
        },
        "id": "YKkVU5Gi7PgH",
        "outputId": "4aeaa72c-655d-4b7c-b664-5d10683b1a9e"
      },
      "execution_count": null,
      "outputs": [
        {
          "output_type": "execute_result",
          "data": {
            "text/plain": [
              "5"
            ]
          },
          "metadata": {},
          "execution_count": 11
        }
      ]
    },
    {
      "cell_type": "markdown",
      "source": [
        "Accesses the value which is at index 3 of array `array_3` in Numpy."
      ],
      "metadata": {
        "id": "umMUOSLM7y5j"
      }
    },
    {
      "cell_type": "code",
      "source": [
        "# Numpy way\n",
        "\n",
        "\n",
        "print(array_3[3][0])\n",
        "array_3[:,0][3]"
      ],
      "metadata": {
        "id": "Ty_JolsW7g7j",
        "colab": {
          "base_uri": "https://localhost:8080/"
        },
        "outputId": "ce6c8cdb-04ff-4c61-f266-fbf98c4dc6f6"
      },
      "execution_count": null,
      "outputs": [
        {
          "output_type": "stream",
          "name": "stdout",
          "text": [
            "5\n"
          ]
        },
        {
          "output_type": "execute_result",
          "data": {
            "text/plain": [
              "5"
            ]
          },
          "metadata": {},
          "execution_count": 21
        }
      ]
    },
    {
      "cell_type": "markdown",
      "source": [
        "# Mission 4"
      ],
      "metadata": {
        "id": "wDgUXd2GFxTG"
      }
    },
    {
      "cell_type": "markdown",
      "source": [
        "Reshape `array_1` to be a 4-row, 8-column array,\n",
        "rather than a 32-element vector.  \n",
        "Save your array under the variable `array_4`."
      ],
      "metadata": {
        "id": "A9lWaV2MF47x"
      }
    },
    {
      "cell_type": "code",
      "source": [
        "array_1"
      ],
      "metadata": {
        "colab": {
          "base_uri": "https://localhost:8080/"
        },
        "id": "y5lhZR04Fa37",
        "outputId": "3a1960a8-fb33-463a-a50e-c1eb10f8bbf6"
      },
      "execution_count": null,
      "outputs": [
        {
          "output_type": "execute_result",
          "data": {
            "text/plain": [
              "array([10, 40, 45,  5, 66, 91, 43, 75, 40, 28, 55, 45, 31, 71, 67, 54, 54,\n",
              "       35, 64, 27, 12, 93, 17, 91, 50, 57, 74, 61, 86, 20, 36, 35])"
            ]
          },
          "metadata": {},
          "execution_count": 29
        }
      ]
    },
    {
      "cell_type": "code",
      "source": [
        "array_4 = array_1.reshape(4,8)\n",
        "\n",
        "array_4"
      ],
      "metadata": {
        "colab": {
          "base_uri": "https://localhost:8080/"
        },
        "id": "uqur2GQDF3MV",
        "outputId": "668f51a5-2a91-4bcc-a3c7-aef4dd2ccdf5"
      },
      "execution_count": null,
      "outputs": [
        {
          "output_type": "execute_result",
          "data": {
            "text/plain": [
              "array([[10, 40, 45,  5, 66, 91, 43, 75],\n",
              "       [40, 28, 55, 45, 31, 71, 67, 54],\n",
              "       [54, 35, 64, 27, 12, 93, 17, 91],\n",
              "       [50, 57, 74, 61, 86, 20, 36, 35]])"
            ]
          },
          "metadata": {},
          "execution_count": 31
        }
      ]
    },
    {
      "cell_type": "markdown",
      "source": [
        "Accesses for each row, the values ​​of the columns which have the index 1 to 2 included."
      ],
      "metadata": {
        "id": "e7li0x-9HJRj"
      }
    },
    {
      "cell_type": "code",
      "source": [
        "array_4[:, 1:3] "
      ],
      "metadata": {
        "colab": {
          "base_uri": "https://localhost:8080/"
        },
        "id": "gSRbs_N1Gio6",
        "outputId": "22ca7b05-750f-47cf-a3ee-bbeca72742b0"
      },
      "execution_count": null,
      "outputs": [
        {
          "output_type": "execute_result",
          "data": {
            "text/plain": [
              "array([[40, 45],\n",
              "       [28, 55],\n",
              "       [35, 64],\n",
              "       [57, 74]])"
            ]
          },
          "metadata": {},
          "execution_count": 32
        }
      ]
    },
    {
      "cell_type": "markdown",
      "source": [
        "\n",
        "Accesses for rows at position 1 and 2 inclusive, the values ​​of all columns."
      ],
      "metadata": {
        "id": "dhImhpqRIkfm"
      }
    },
    {
      "cell_type": "code",
      "source": [
        "array_4[0:2,:]"
      ],
      "metadata": {
        "colab": {
          "base_uri": "https://localhost:8080/"
        },
        "id": "tenCOvhhJBsf",
        "outputId": "769b2694-abd0-4144-f63b-4f8f57d04c8c"
      },
      "execution_count": null,
      "outputs": [
        {
          "output_type": "execute_result",
          "data": {
            "text/plain": [
              "array([[10, 40, 45,  5, 66, 91, 43, 75],\n",
              "       [40, 28, 55, 45, 31, 71, 67, 54]])"
            ]
          },
          "metadata": {},
          "execution_count": 34
        }
      ]
    },
    {
      "cell_type": "markdown",
      "source": [
        "Accesses for the rows which have the index 2 to 3 inclusive, to the values ​​of the columns which have the index 3 to 5 inclusive."
      ],
      "metadata": {
        "id": "r74v4LSWIJTS"
      }
    },
    {
      "cell_type": "code",
      "source": [
        "array_4[2:4, 3:6]"
      ],
      "metadata": {
        "colab": {
          "base_uri": "https://localhost:8080/"
        },
        "id": "y7C7rWACIDXx",
        "outputId": "1ea5eac3-ca76-42aa-e12f-ee718559cd04"
      },
      "execution_count": null,
      "outputs": [
        {
          "output_type": "execute_result",
          "data": {
            "text/plain": [
              "array([[27, 12, 93],\n",
              "       [61, 86, 20]])"
            ]
          },
          "metadata": {},
          "execution_count": 33
        }
      ]
    },
    {
      "cell_type": "markdown",
      "source": [
        "Selects the first column, as well as the columns whose index is a multiple of 2."
      ],
      "metadata": {
        "id": "04wOFcQ7LScR"
      }
    },
    {
      "cell_type": "code",
      "source": [
        "array_4[:,::2]"
      ],
      "metadata": {
        "colab": {
          "base_uri": "https://localhost:8080/"
        },
        "id": "RVDqIS2AIaLV",
        "outputId": "12fe7e9d-b46f-42eb-b847-48038a9a40ef"
      },
      "execution_count": null,
      "outputs": [
        {
          "output_type": "execute_result",
          "data": {
            "text/plain": [
              "array([[10, 45, 66, 43],\n",
              "       [40, 55, 31, 67],\n",
              "       [54, 64, 12, 17],\n",
              "       [50, 74, 86, 36]])"
            ]
          },
          "metadata": {},
          "execution_count": 41
        }
      ]
    },
    {
      "cell_type": "markdown",
      "source": [
        "Select columns whose index is odd."
      ],
      "metadata": {
        "id": "RiB2pjaeL3Fr"
      }
    },
    {
      "cell_type": "code",
      "source": [
        "array_4[:,1::2]"
      ],
      "metadata": {
        "colab": {
          "base_uri": "https://localhost:8080/"
        },
        "id": "RIFhRxE7LdjD",
        "outputId": "299e30c2-36ea-4a35-ee7e-ad38c1cd46f9"
      },
      "execution_count": null,
      "outputs": [
        {
          "output_type": "execute_result",
          "data": {
            "text/plain": [
              "array([[40,  5, 91, 75],\n",
              "       [28, 45, 71, 54],\n",
              "       [35, 27, 93, 91],\n",
              "       [57, 61, 20, 35]])"
            ]
          },
          "metadata": {},
          "execution_count": 43
        }
      ]
    },
    {
      "cell_type": "markdown",
      "source": [
        "# Mission 5"
      ],
      "metadata": {
        "id": "YN3Nm1cnPNbO"
      }
    },
    {
      "cell_type": "markdown",
      "source": [
        "Reshape your `array_1` vector into a 3-dimensional array.\n",
        "Your 3-dimensional array should have 2 matrices, each of which has 4 rows and 4 columns.\n",
        "Save your array under the variable `array_5`."
      ],
      "metadata": {
        "id": "nRqB_vIZPSF_"
      }
    },
    {
      "cell_type": "code",
      "source": [
        "array_5 = array_1.reshape(2,4,4)\n",
        "\n",
        "array_5"
      ],
      "metadata": {
        "colab": {
          "base_uri": "https://localhost:8080/"
        },
        "id": "pMMuPQx0L8ob",
        "outputId": "f63a11da-02ac-46ee-eba4-1bffc90e8745"
      },
      "execution_count": null,
      "outputs": [
        {
          "output_type": "execute_result",
          "data": {
            "text/plain": [
              "array([[[10, 40, 45,  5],\n",
              "        [66, 91, 43, 75],\n",
              "        [40, 28, 55, 45],\n",
              "        [31, 71, 67, 54]],\n",
              "\n",
              "       [[54, 35, 64, 27],\n",
              "        [12, 93, 17, 91],\n",
              "        [50, 57, 74, 61],\n",
              "        [86, 20, 36, 35]]])"
            ]
          },
          "metadata": {},
          "execution_count": 47
        }
      ]
    },
    {
      "cell_type": "markdown",
      "source": [
        "Use the .shape attribute to observe the number of axes for `array_5`."
      ],
      "metadata": {
        "id": "c5bKE_q2QVTU"
      }
    },
    {
      "cell_type": "code",
      "source": [
        "array_5.shape"
      ],
      "metadata": {
        "colab": {
          "base_uri": "https://localhost:8080/"
        },
        "id": "mG4nN1d5QJrs",
        "outputId": "a60ed763-3c48-4fc8-ca72-6a46d283d6e0"
      },
      "execution_count": null,
      "outputs": [
        {
          "output_type": "execute_result",
          "data": {
            "text/plain": [
              "(2, 4, 4)"
            ]
          },
          "metadata": {},
          "execution_count": 48
        }
      ]
    },
    {
      "cell_type": "markdown",
      "source": [
        "Selects all values ​​from the first matrix."
      ],
      "metadata": {
        "id": "sk3eOLAxR4p7"
      }
    },
    {
      "cell_type": "code",
      "source": [
        "array_5[0,:,:]"
      ],
      "metadata": {
        "colab": {
          "base_uri": "https://localhost:8080/"
        },
        "id": "rshXvt36R7pm",
        "outputId": "b5e338c0-3bdb-400c-fdec-47d4c1cfd574"
      },
      "execution_count": null,
      "outputs": [
        {
          "output_type": "execute_result",
          "data": {
            "text/plain": [
              "array([[10, 40, 45,  5],\n",
              "       [66, 91, 43, 75],\n",
              "       [40, 28, 55, 45],\n",
              "       [31, 71, 67, 54]])"
            ]
          },
          "metadata": {},
          "execution_count": 53
        }
      ]
    },
    {
      "cell_type": "markdown",
      "source": [
        "Accesses for both matrices,\n",
        "to the values ​​corresponding to the rows at index 1 and to the columns that have positions 3 and 4."
      ],
      "metadata": {
        "id": "JrU1RDIPQhpE"
      }
    },
    {
      "cell_type": "code",
      "source": [
        "array_5[:,1,2:]"
      ],
      "metadata": {
        "colab": {
          "base_uri": "https://localhost:8080/"
        },
        "id": "tuYurg_fQeiz",
        "outputId": "a7c6f0dd-5989-442d-db36-bc53f9f3be8d"
      },
      "execution_count": null,
      "outputs": [
        {
          "output_type": "execute_result",
          "data": {
            "text/plain": [
              "array([[43, 75],\n",
              "       [17, 91]])"
            ]
          },
          "metadata": {},
          "execution_count": 50
        }
      ]
    },
    {
      "cell_type": "markdown",
      "source": [
        "Accesses row values ​​at positions 2 through 3,\n",
        "columns at indexes 1 to 3 for the second matrix only."
      ],
      "metadata": {
        "id": "O4Nbgj7zRfm5"
      }
    },
    {
      "cell_type": "code",
      "source": [
        "array_5[1,1:3,1:]"
      ],
      "metadata": {
        "colab": {
          "base_uri": "https://localhost:8080/"
        },
        "id": "7vKsCw01Qvy8",
        "outputId": "434d11ad-a6b4-4b4f-be86-237219a1ac8f"
      },
      "execution_count": null,
      "outputs": [
        {
          "output_type": "execute_result",
          "data": {
            "text/plain": [
              "array([[93, 17, 91],\n",
              "       [57, 74, 61]])"
            ]
          },
          "metadata": {},
          "execution_count": 52
        }
      ]
    },
    {
      "cell_type": "markdown",
      "source": [
        "\n",
        "Reshape `array_5` so that we have 8 rows and 4 columns."
      ],
      "metadata": {
        "id": "odAFpIAwSB-F"
      }
    },
    {
      "cell_type": "code",
      "source": [
        "array_5.reshape(8,4)"
      ],
      "metadata": {
        "colab": {
          "base_uri": "https://localhost:8080/"
        },
        "id": "dYke4rpIRtqh",
        "outputId": "40b033a6-388c-4117-ff36-a72077318370"
      },
      "execution_count": null,
      "outputs": [
        {
          "output_type": "execute_result",
          "data": {
            "text/plain": [
              "array([[10, 40, 45,  5],\n",
              "       [66, 91, 43, 75],\n",
              "       [40, 28, 55, 45],\n",
              "       [31, 71, 67, 54],\n",
              "       [54, 35, 64, 27],\n",
              "       [12, 93, 17, 91],\n",
              "       [50, 57, 74, 61],\n",
              "       [86, 20, 36, 35]])"
            ]
          },
          "metadata": {},
          "execution_count": 54
        }
      ]
    }
  ]
}