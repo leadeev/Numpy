{
  "nbformat": 4,
  "nbformat_minor": 0,
  "metadata": {
    "colab": {
      "provenance": [],
      "include_colab_link": true
    },
    "kernelspec": {
      "name": "python3",
      "display_name": "Python 3"
    }
  },
  "cells": [
    {
      "cell_type": "markdown",
      "metadata": {
        "id": "view-in-github",
        "colab_type": "text"
      },
      "source": [
        "<a href=\"https://colab.research.google.com/github/leadeev/Numpy/blob/main/4_3_Python_Monty_Hall.ipynb\" target=\"_parent\"><img src=\"https://colab.research.google.com/assets/colab-badge.svg\" alt=\"Open In Colab\"/></a>"
      ]
    },
    {
      "cell_type": "markdown",
      "metadata": {
        "id": "s6odsFbLpgIh"
      },
      "source": [
        "# Monty Hall\n",
        "\n",
        "**Below is an example of an implementation of the Monty Hall game using native Python. It contains no comments.**"
      ]
    },
    {
      "cell_type": "markdown",
      "metadata": {
        "id": "QAqgGziZPsIZ"
      },
      "source": [
        "## Mission 1\n",
        "\n",
        "After reviewing the code below, add both **unilinear** and **multilinear** comments to explain how it works to another developer."
      ]
    },
    {
      "cell_type": "code",
      "metadata": {
        "id": "0dL7B4XiO1ft",
        "colab": {
          "base_uri": "https://localhost:8080/",
          "height": 265
        },
        "outputId": "56cd71f5-2fb0-48c2-d362-6a7f6bee409a"
      },
      "source": [
        "import matplotlib.pyplot as plt\n",
        "from random import choice\n",
        "\n",
        "def play_one_game(strategy):\n",
        "\n",
        "  doors = ['A', 'B', 'C']\n",
        "  correct_door = choice(doors)\n",
        "  \n",
        "  first_choice = choice(doors)\n",
        "  doors.remove(first_choice)\n",
        "\n",
        "  while True:\n",
        "    hint_door = choice(doors)\n",
        "    if hint_door != correct_door:\n",
        "      doors.remove(hint_door)\n",
        "      break\n",
        "\n",
        "  if strategy.lower() == \"change\":\n",
        "      second_choice = choice(doors)\n",
        "  elif strategy.lower() == \"keep\":\n",
        "      second_choice = first_choice\n",
        "  else:\n",
        "      raise ValueError(\"Strategy not recognized!\")\n",
        "  \n",
        "  return second_choice == correct_door\n",
        "\n",
        "\n",
        "def play_many_games(strategy, nb_turns):\n",
        "    return list(1 if play_one_game(strategy) else 0 for i in range(nb_turns))\n",
        "\n",
        "\n",
        "plot = plt.bar([1, 2],\n",
        "               [sum(play_many_games(\"change\", 10000)), sum(play_many_games(\"keep\", 10000))], \n",
        "               tick_label=[\"Change\", \"Keep\"])"
      ],
      "execution_count": null,
      "outputs": [
        {
          "output_type": "display_data",
          "data": {
            "image/png": "[encoded data removed]",
            "text/plain": [
              "<Figure size 432x288 with 1 Axes>"
            ]
          },
          "metadata": {
            "needs_background": "light"
          }
        }
      ]
    },
    {
      "cell_type": "markdown",
      "metadata": {
        "id": "KPuEESZDP-C-"
      },
      "source": [
        "# Mission 2\n",
        "\n",
        "To make sure you understood the code, in a new cell, change up the code in mission 1 to add a third bar, corresponding to a new strategy called **Alternate**. \n",
        "\n",
        "A player following it will alternate **randomly** between \"Change\" and \"Keep\".\n"
      ]
    },
    {
      "cell_type": "code",
      "metadata": {
        "id": "3R82gwZxP9oo",
        "colab": {
          "base_uri": "https://localhost:8080/",
          "height": 269
        },
        "outputId": "0e3f7177-696a-425c-f8b5-62c9f6e96310"
      },
      "source": [
        "import matplotlib.pyplot as plt\n",
        "from random import choice\n",
        "\n",
        "def play_one_game(strategy):\n",
        "\n",
        "  doors = ['A', 'B', 'C']\n",
        "  correct_door = choice(doors)\n",
        "  \n",
        "  first_choice = choice(doors)\n",
        "  doors.remove(first_choice)\n",
        "\n",
        "  while True:\n",
        "    hint_door = choice(doors)\n",
        "    if hint_door != correct_door:\n",
        "      doors.remove(hint_door)\n",
        "      break\n",
        "\n",
        "  if strategy.lower() == \"change\":\n",
        "      second_choice = choice(doors)\n",
        "  elif strategy.lower() == \"keep\":\n",
        "      second_choice = first_choice\n",
        "  elif strategy.lower() == \"alternate\":\n",
        "        # Randomly choose between \"Change\" and \"Keep\"\n",
        "        strategy = choice([\"Change\", \"Keep\"])\n",
        "        if strategy == \"Change\":\n",
        "            second_choice = choice(doors)\n",
        "        else:\n",
        "            second_choice = first_choice\n",
        "  else:\n",
        "      raise ValueError(\"Strategy not recognized!\")\n",
        "  \n",
        "  return second_choice == correct_door\n",
        "\n",
        "\n",
        "def play_many_games(strategy, nb_turns):\n",
        "    return list(1 if play_one_game(strategy) else 0 for i in range(nb_turns))\n",
        "\n",
        "\n",
        "plt.bar([1, 2, 3], [sum(play_many_games(\"change\", 10000)), sum(play_many_games(\"keep\", 10000)), sum(play_many_games(\"alternate\", 10000))], \n",
        "               tick_label=[\"Change\", \"Keep\", \"Alternate\"])\n",
        "plt.show()"
      ],
      "execution_count": 1,
      "outputs": [
        {
          "output_type": "display_data",
          "data": {
            "text/plain": [
              "<Figure size 432x288 with 1 Axes>"
            ],
            "image/png": "[encoded data removed]"
          },
          "metadata": {
            "needs_background": "light"
          }
        }
      ]
    },
    {
      "cell_type": "markdown",
      "metadata": {
        "id": "VPjKxsbQQbbx"
      },
      "source": [
        "# Mission 3\n",
        "\n",
        "Now, re-code the Monty Hall game using NumPy. **Do not use Python lists, the built-in `random` module, or any for or while loops in the code**. NumPy contains all the mechanisms you need to achieve the same result.\n",
        "\n",
        "Finally, combine the 2 functions, `play_one_game` and `play_many_games`. In other words, **your NumPy program should now contain only one function**. Obviously, **the visual should be the same as in mission 2**."
      ]
    },
    {
      "cell_type": "code",
      "metadata": {
        "id": "IwRDK_YtQbre"
      },
      "source": [
        "import numpy as np\n",
        "\n",
        "def play_monty_hall(strategy, nb_turns):\n",
        "    # Set the seed for reproducibility\n",
        "    np.random.seed(0)\n",
        "    # Generate an array of the correct door for each turn\n",
        "    correct_doors = np.random.randint(0, 3, nb_turns)\n",
        "    # Generate an array of the player's first choice for each turn\n",
        "    first_choices = np.random.randint(0, 3, nb_turns)\n",
        "    # Generate an array of the hint door for each turn\n",
        "    hint_doors = np.random.randint(0, 3, nb_turns)\n",
        "    # Make sure the hint door is not the correct door\n",
        "    hint_doors = np.where(hint_doors == correct_doors, (hint_doors + 1) % 3, hint_doors)\n",
        "    if strategy.lower() == \"change\":\n",
        "        # Remove the hint door and first choice from the available doors\n",
        "        used_doors = set(np.concatenate((first_choices, hint_doors)))\n",
        "        remaining_doors = [x for x in range(3) if x not in used_doors]\n",
        "        if len(remaining_doors) > 0:\n",
        "            second_choices = np.random.choice(remaining_doors, nb_turns)\n",
        "        else:\n",
        "            second_choices = np.random.randint(0, 3, nb_turns)\n",
        "    elif strategy.lower() == \"keep\":\n",
        "        second_choices = first_choices\n",
        "    elif strategy.lower() == \"alternate\":\n",
        "        # Randomly choose between \"Change\" and \"Keep\"\n",
        "        strategy = np.random.randint(0, 2, nb_turns)\n",
        "        used_doors = set(np.concatenate((first_choices, hint_doors)))\n",
        "        remaining_doors = [x for x in range(3) if x not in used_doors]\n",
        "        if len(remaining_doors) > 0:\n",
        "            second_choices = np.where(strategy == 0, first_choices, np.random.choice(remaining_doors, nb_turns))\n",
        "        else:\n",
        "            second_choices = np.random.randint(0, 3, nb_turns)\n",
        "    else:\n",
        "        raise ValueError(\"Strategy not recognized!\")\n",
        "    # Count the number of correct second choices\n",
        "    correct_choices = np.sum(second_choices == correct_doors)\n",
        "    # Calculate the win rate\n",
        "    win_rate = correct_choices / nb_turns\n",
        "    return win_rate\n",
        "plt.bar([1, 2, 3],\n",
        "        [play_monty_hall(\"change\", 10000), \n",
        "        play_monty_hall(\"keep\", 10000),\n",
        "        play_monty_hall(\"alternate\", 10000)],\n",
        "        tick_label=[\"Change\", \"Keep\", \"Alternate\"])\n",
        "plt.ylim(0,1)\n",
        "plt.xlabel(\"Strategy\")\n",
        "plt.ylabel(\"Win Rate\")\n",
        "plt.title(\"Monty Hall Game\")\n",
        "plt.show()\n"
      ],
      "execution_count": null,
      "outputs": []
    }
  ]
}